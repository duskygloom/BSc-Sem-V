{
 "cells": [
  {
   "cell_type": "markdown",
   "metadata": {},
   "source": [
    "### **KEY GENERATION**"
   ]
  },
  {
   "cell_type": "code",
   "execution_count": 435,
   "metadata": {},
   "outputs": [],
   "source": [
    "def hex_to_bin(h: str) -> str:\n",
    "    b = ''\n",
    "    for i in h:\n",
    "        b += bin(int(i, base=16)).removeprefix('0b').zfill(4)\n",
    "    return b"
   ]
  },
  {
   "cell_type": "code",
   "execution_count": 457,
   "metadata": {},
   "outputs": [
    {
     "name": "stdout",
     "output_type": "stream",
     "text": [
      "11001010 01011010 11011110 11000110 01100101 01000001 11111101 11011111 01001111 00011100 00100000 00010001 01010011 11011000 10110100 01000111 11011001 00100110 11111101 10101000 01110000 10111000 11011010 01010110 01101001 01100101 11011011 10100100 10111100 10010001 11101110 00110100 \n"
     ]
    }
   ],
   "source": [
    "display_bin(hex_to_bin('ca5adec66541fddf4f1c201153d8b447d926fda870b8da566965dba4bc91ee34'))"
   ]
  },
  {
   "cell_type": "code",
   "execution_count": 436,
   "metadata": {},
   "outputs": [],
   "source": [
    "def display_bin(b: str, n: int = 8):\n",
    "    if len(b) % n != 0:\n",
    "        b = b.zfill(n * ((len(b) // n) + 1))\n",
    "    for i in range(0, len(b), n):\n",
    "        print(b[i:i+n], end=' ')\n",
    "    print()"
   ]
  },
  {
   "cell_type": "markdown",
   "metadata": {},
   "source": [
    "**We start with a 64-bit key.**"
   ]
  },
  {
   "cell_type": "code",
   "execution_count": 437,
   "metadata": {},
   "outputs": [],
   "source": [
    "hex_key = '133457799BBCDFF1'"
   ]
  },
  {
   "cell_type": "code",
   "execution_count": 438,
   "metadata": {},
   "outputs": [],
   "source": [
    "bin_key = hex_to_bin(hex_key)"
   ]
  },
  {
   "cell_type": "code",
   "execution_count": 439,
   "metadata": {},
   "outputs": [
    {
     "name": "stdout",
     "output_type": "stream",
     "text": [
      "00010011 00110100 01010111 01111001 10011011 10111100 11011111 11110001 \n"
     ]
    }
   ],
   "source": [
    "display_bin(bin_key)"
   ]
  },
  {
   "cell_type": "markdown",
   "metadata": {},
   "source": [
    "**P-Box 1**"
   ]
  },
  {
   "cell_type": "markdown",
   "metadata": {},
   "source": [
    "### **Permutation box**\n",
    "\n",
    "Permuation boxes don't add any new information.<br>\n",
    "They just shuffle the already existing bits.<br>\n",
    "<br>\n",
    "In the first step, we want to permutate the<br>\n",
    "64-bits key to form a 56-bit key. This is thus<br>\n",
    "called a compression P-box.<br>\n",
    "<br>\n",
    "len(pb1) is 56. Thus, the index values represent<br>\n",
    "the position of the bit in the permutated key.<br>\n",
    "The values in the list represent the position of<br>\n",
    "the bit in the original key.<br>"
   ]
  },
  {
   "cell_type": "code",
   "execution_count": 440,
   "metadata": {},
   "outputs": [],
   "source": [
    "pb1 = [\n",
    "    57, 49, 41, 33, 25, 17,  9,\n",
    "     1, 58, 50, 42, 34, 26, 18,\n",
    "    10,  2, 59, 51, 43, 35, 27,\n",
    "    19, 11,  3, 60, 52, 44, 36,\n",
    "    63, 55, 47, 39, 31, 23, 15,\n",
    "     7, 62, 54, 46, 38, 30, 22,\n",
    "    14,  6, 61, 53, 45, 37, 29,\n",
    "    21, 13,  5, 28, 20, 12,  4,\n",
    "]"
   ]
  },
  {
   "cell_type": "code",
   "execution_count": 441,
   "metadata": {},
   "outputs": [],
   "source": [
    "pkey = ''\n",
    "\n",
    "for i in pb1:\n",
    "    pkey += bin_key[i-1]                        # p-box indices start from 1"
   ]
  },
  {
   "cell_type": "code",
   "execution_count": 442,
   "metadata": {},
   "outputs": [
    {
     "name": "stdout",
     "output_type": "stream",
     "text": [
      "1111000 0110011 0010101 0101111 0101010 1011001 1001111 0001111 \n"
     ]
    }
   ],
   "source": [
    "display_bin(pkey, 7)"
   ]
  },
  {
   "cell_type": "code",
   "execution_count": 443,
   "metadata": {},
   "outputs": [],
   "source": [
    "c0, d0 = pkey[:28], pkey[28:]"
   ]
  },
  {
   "cell_type": "code",
   "execution_count": 444,
   "metadata": {},
   "outputs": [
    {
     "name": "stdout",
     "output_type": "stream",
     "text": [
      "1111000 0110011 0010101 0101111 \n",
      "0101010 1011001 1001111 0001111 \n"
     ]
    }
   ],
   "source": [
    "display_bin(c0, 7)\n",
    "display_bin(d0, 7)"
   ]
  },
  {
   "cell_type": "markdown",
   "metadata": {},
   "source": [
    "**Key shift**"
   ]
  },
  {
   "cell_type": "code",
   "execution_count": 445,
   "metadata": {},
   "outputs": [],
   "source": [
    "def left_shift(b: str, n: int) -> str:\n",
    "    return b[n:] + b[:n]"
   ]
  },
  {
   "cell_type": "code",
   "execution_count": 446,
   "metadata": {},
   "outputs": [],
   "source": [
    "left_shifts = [\n",
    "    1, 1, 2, 2, 2, 2, 2, 2,\n",
    "    1, 2, 2, 2, 2, 2, 2, 1,\n",
    "]"
   ]
  },
  {
   "cell_type": "code",
   "execution_count": 447,
   "metadata": {},
   "outputs": [
    {
     "name": "stdout",
     "output_type": "stream",
     "text": [
      "C0 = 1111000 0110011 0010101 0101111 \n",
      "D0 = 0101010 1011001 1001111 0001111 \n",
      "\n",
      "C1 = 1110000 1100110 0101010 1011111 \n",
      "D1 = 1010101 0110011 0011110 0011110 \n",
      "\n",
      "C2 = 1100001 1001100 1010101 0111111 \n",
      "D2 = 0101010 1100110 0111100 0111101 \n",
      "\n",
      "C3 = 0000110 0110010 1010101 1111111 \n",
      "D3 = 0101011 0011001 1110001 1110101 \n",
      "\n",
      "C4 = 0011001 1001010 1010111 1111100 \n",
      "D4 = 0101100 1100111 1000111 1010101 \n",
      "\n",
      "C5 = 1100110 0101010 1011111 1110000 \n",
      "D5 = 0110011 0011110 0011110 1010101 \n",
      "\n",
      "C6 = 0011001 0101010 1111111 1000011 \n",
      "D6 = 1001100 1111000 1111010 1010101 \n",
      "\n",
      "C7 = 1100101 0101011 1111110 0001100 \n",
      "D7 = 0110011 1100011 1101010 1010110 \n",
      "\n",
      "C8 = 0010101 0101111 1111000 0110011 \n",
      "D8 = 1001111 0001111 0101010 1011001 \n",
      "\n",
      "C9 = 0101010 1011111 1110000 1100110 \n",
      "D9 = 0011110 0011110 1010101 0110011 \n",
      "\n",
      "C10 = 0101010 1111111 1000011 0011001 \n",
      "D10 = 1111000 1111010 1010101 1001100 \n",
      "\n",
      "C11 = 0101011 1111110 0001100 1100101 \n",
      "D11 = 1100011 1101010 1010110 0110011 \n",
      "\n",
      "C12 = 0101111 1111000 0110011 0010101 \n",
      "D12 = 0001111 0101010 1011001 1001111 \n",
      "\n",
      "C13 = 0111111 1100001 1001100 1010101 \n",
      "D13 = 0111101 0101010 1100110 0111100 \n",
      "\n",
      "C14 = 1111111 0000110 0110010 1010101 \n",
      "D14 = 1110101 0101011 0011001 1110001 \n",
      "\n",
      "C15 = 1111100 0011001 1001010 1010111 \n",
      "D15 = 1010101 0101100 1100111 1000111 \n",
      "\n",
      "C16 = 1111000 0110011 0010101 0101111 \n",
      "D16 = 0101010 1011001 1001111 0001111 \n",
      "\n"
     ]
    }
   ],
   "source": [
    "c, d = c0, d0\n",
    "\n",
    "print(f'C0 = ', end='')\n",
    "display_bin(c, 7)\n",
    "print(f'D0 = ', end='')\n",
    "display_bin(d, 7)\n",
    "print()\n",
    "\n",
    "keys = []\n",
    "\n",
    "for i in range(16):\n",
    "    c = left_shift(c, left_shifts[i])\n",
    "    d = left_shift(d, left_shifts[i])\n",
    "    keys.append([c, d])\n",
    "    print(f'C{i+1} = ', end='')\n",
    "    display_bin(c, 7)\n",
    "    print(f'D{i+1} = ', end='')\n",
    "    display_bin(d, 7)\n",
    "    print()"
   ]
  },
  {
   "cell_type": "markdown",
   "metadata": {},
   "source": [
    "### **Encryption**"
   ]
  },
  {
   "cell_type": "code",
   "execution_count": 448,
   "metadata": {},
   "outputs": [],
   "source": [
    "hex_message = '0123456789ABCDEF'\n",
    "bin_message = hex_to_bin(hex_message)"
   ]
  },
  {
   "cell_type": "code",
   "execution_count": 449,
   "metadata": {},
   "outputs": [
    {
     "name": "stdout",
     "output_type": "stream",
     "text": [
      "0000 0001 0010 0011 0100 0101 0110 0111 1000 1001 1010 1011 1100 1101 1110 1111 \n"
     ]
    }
   ],
   "source": [
    "display_bin(bin_message, 4)"
   ]
  },
  {
   "cell_type": "markdown",
   "metadata": {},
   "source": [
    "**Initial permutation**"
   ]
  },
  {
   "cell_type": "code",
   "execution_count": 450,
   "metadata": {},
   "outputs": [],
   "source": [
    "ip = [\n",
    "    58, 50, 42, 34, 26, 18, 10,  2,\n",
    "    60, 52, 44, 36, 28, 20, 12,  4,\n",
    "    62, 54, 46, 38, 30, 22, 14,  6,\n",
    "    64, 56, 48, 40, 32, 24, 16,  8,\n",
    "    57, 49, 41, 33, 25, 17,  9,  1,\n",
    "    59, 51, 43, 35, 27, 19, 11,  3,\n",
    "    61, 53, 45, 37, 29, 21, 13,  5,\n",
    "    63, 55, 47, 39, 31, 23, 15,  7,\n",
    "]"
   ]
  },
  {
   "cell_type": "code",
   "execution_count": 451,
   "metadata": {},
   "outputs": [],
   "source": [
    "fp = [\n",
    "    40,  8, 48, 16, 56, 24, 64, 32,\n",
    "    39,  7, 47, 15, 55, 23, 63, 31,\n",
    "    38,  6, 46, 14, 54, 22, 62, 30,\n",
    "    37,  5, 45, 13, 53, 21, 61, 29,\n",
    "    36,  4, 44, 12, 52, 20, 60, 28,\n",
    "    35,  3, 43, 11, 51, 19, 59, 27,\n",
    "    34,  2, 42, 10, 50, 18, 58, 26,\n",
    "    33,  1, 41,  9, 49, 17, 57, 25,\n",
    "]"
   ]
  },
  {
   "cell_type": "code",
   "execution_count": 452,
   "metadata": {},
   "outputs": [],
   "source": [
    "import numpy as np\n",
    "\n",
    "arr = np.array([i+1 for i in range(64)], int)"
   ]
  },
  {
   "cell_type": "code",
   "execution_count": 453,
   "metadata": {},
   "outputs": [],
   "source": [
    "def pbox_operation(arr, pbox) -> np.ndarray:\n",
    "    p = np.zeros(64, int)\n",
    "    for i in range(len(arr)):\n",
    "        p[i] = arr[pbox[i]-1]\n",
    "    return p"
   ]
  },
  {
   "cell_type": "code",
   "execution_count": 454,
   "metadata": {},
   "outputs": [],
   "source": [
    "initial = pbox_operation(arr, ip)\n",
    "final = pbox_operation(initial, fp)"
   ]
  },
  {
   "cell_type": "code",
   "execution_count": 455,
   "metadata": {},
   "outputs": [
    {
     "name": "stdout",
     "output_type": "stream",
     "text": [
      "[58 50 42 34 26 18 10  2 60 52 44 36 28 20 12  4 62 54 46 38 30 22 14  6\n",
      " 64 56 48 40 32 24 16  8 57 49 41 33 25 17  9  1 59 51 43 35 27 19 11  3\n",
      " 61 53 45 37 29 21 13  5 63 55 47 39 31 23 15  7]\n"
     ]
    }
   ],
   "source": [
    "print(initial)"
   ]
  },
  {
   "cell_type": "code",
   "execution_count": 456,
   "metadata": {},
   "outputs": [
    {
     "name": "stdout",
     "output_type": "stream",
     "text": [
      "[ 1  2  3  4  5  6  7  8  9 10 11 12 13 14 15 16 17 18 19 20 21 22 23 24\n",
      " 25 26 27 28 29 30 31 32 33 34 35 36 37 38 39 40 41 42 43 44 45 46 47 48\n",
      " 49 50 51 52 53 54 55 56 57 58 59 60 61 62 63 64]\n"
     ]
    }
   ],
   "source": [
    "print(final)"
   ]
  }
 ],
 "metadata": {
  "kernelspec": {
   "display_name": "cryptography",
   "language": "python",
   "name": "python3"
  },
  "language_info": {
   "codemirror_mode": {
    "name": "ipython",
    "version": 3
   },
   "file_extension": ".py",
   "mimetype": "text/x-python",
   "name": "python",
   "nbconvert_exporter": "python",
   "pygments_lexer": "ipython3",
   "version": "3.10.10"
  }
 },
 "nbformat": 4,
 "nbformat_minor": 2
}
