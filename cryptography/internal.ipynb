{
 "cells": [
  {
   "cell_type": "code",
   "execution_count": null,
   "metadata": {},
   "outputs": [],
   "source": [
    "def fibonacci(x):\n",
    "    l = [0, 1]\n",
    "    while len(l) < x:\n",
    "        l.append(l[len(l)-1] + l[len(l)-2])\n",
    "    return l\n",
    "\n",
    "# def fibonacci(x):\n",
    "#     a = 0; b = 1\n",
    "#     for i in range(x):\n",
    "#         b = a + b\n",
    "#         a = b - a\n",
    "#     return a\n",
    "\n",
    "def getcode(x):\n",
    "    return ord(x) - ord('a')\n",
    "\n",
    "def getchar(x):\n",
    "    return chr(x%26 + ord('a'))"
   ]
  },
  {
   "cell_type": "code",
   "execution_count": null,
   "metadata": {},
   "outputs": [
    {
     "name": "stdout",
     "output_type": "stream",
     "text": [
      "[0, 1, 1, 2, 3, 5, 8, 0, 1, 1, 2, 3, 5, 8, 0]\n"
     ]
    }
   ],
   "source": [
    "# plain = 'hpx lx gcm ucru'\n",
    "# print([fibonacci(i%7) for i in range(len(plain))])"
   ]
  },
  {
   "cell_type": "code",
   "execution_count": null,
   "metadata": {},
   "outputs": [
    {
     "name": "stdout",
     "output_type": "stream",
     "text": [
      "how is gbl rxju\n"
     ]
    }
   ],
   "source": [
    "plain = 'hpx lx gcm ucru'\n",
    "ciph = ''\n",
    "# fib = [fibonacci(i%7) for i in range(len(plain))]\n",
    "fib = fibonacci(len(plain))\n",
    "\n",
    "for i in range(len(plain)):\n",
    "    if plain[i] == ' ':\n",
    "        ciph += ' '\n",
    "        continue\n",
    "    ciph += getchar(getcode(plain[i])-fib[i])\n",
    "\n",
    "print(ciph)"
   ]
  }
 ],
 "metadata": {
  "kernelspec": {
   "display_name": "image_processing",
   "language": "python",
   "name": "python3"
  },
  "language_info": {
   "codemirror_mode": {
    "name": "ipython",
    "version": 3
   },
   "file_extension": ".py",
   "mimetype": "text/x-python",
   "name": "python",
   "nbconvert_exporter": "python",
   "pygments_lexer": "ipython3",
   "version": "3.10.11"
  }
 },
 "nbformat": 4,
 "nbformat_minor": 2
}
